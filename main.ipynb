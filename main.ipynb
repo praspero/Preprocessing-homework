{
 "cells": [
  {
   "cell_type": "code",
   "execution_count": 1,
   "metadata": {},
   "outputs": [],
   "source": [
    "%matplotlib inline\n",
    "import pandas as pd\n",
    "import numpy as np\n",
    "from sklearn import preprocessing as pr"
   ]
  },
  {
   "cell_type": "code",
   "execution_count": 2,
   "metadata": {},
   "outputs": [],
   "source": [
    "df = pd.read_csv('test.csv', sep=\";\")"
   ]
  },
  {
   "cell_type": "code",
   "execution_count": 3,
   "metadata": {},
   "outputs": [],
   "source": [
    "df = df.drop(['USER_ID', 'PORTED_OUT', 'OBLIG_ON_START'], axis='columns')"
   ]
  },
  {
   "cell_type": "markdown",
   "metadata": {},
   "source": [
    "# ACT_DATE"
   ]
  },
  {
   "cell_type": "code",
   "execution_count": 4,
   "metadata": {},
   "outputs": [],
   "source": [
    "# ACT_DATE в количество дней ACT_DAYS\n",
    "df['ACT_DAYS'] = (pd.to_datetime('2016-12-01') - pd.to_datetime(df['ACT_DATE'])).dt.days"
   ]
  },
  {
   "cell_type": "code",
   "execution_count": 5,
   "metadata": {},
   "outputs": [],
   "source": [
    "# ACT_DATE в количество месяцев ACT_MONTHS\n",
    "df['ACT_MONTHS'] = (pd.to_datetime('2016-12-01') - \n",
    "                    pd.to_datetime(df['ACT_DATE'])) / np.timedelta64(1, 'M')"
   ]
  },
  {
   "cell_type": "code",
   "execution_count": 6,
   "metadata": {},
   "outputs": [],
   "source": [
    "df = df.drop(['ACT_DATE'], axis='columns')"
   ]
  },
  {
   "cell_type": "markdown",
   "metadata": {},
   "source": [
    "# STATUS (2 variants)"
   ]
  },
  {
   "cell_type": "code",
   "execution_count": 7,
   "metadata": {},
   "outputs": [],
   "source": [
    "# first variant(D and others)\n",
    "df.loc[df.STATUS == 'D', 'STATUS'] = 1\n",
    "df.loc[df.STATUS != 'D', 'STATUS'] = 0"
   ]
  },
  {
   "cell_type": "code",
   "execution_count": 8,
   "metadata": {},
   "outputs": [],
   "source": [
    "# second variant(3 categories: \n",
    "# normal activity(2) - D\n",
    "# low activity(1) - F, Q, R and W\n",
    "# innactivity(0) - Z, L and E\n",
    "for stat in df.STATUS.unique():\n",
    "    if stat == 'D':\n",
    "        rating = 2\n",
    "    elif stat in ['F', 'Q', 'R', 'W']:\n",
    "        rating = 1\n",
    "    else:\n",
    "        rating = 0\n",
    "    df.loc[df.STATUS == stat, 'STATUS'] = rating"
   ]
  },
  {
   "cell_type": "markdown",
   "metadata": {},
   "source": [
    "# TP_CURRENT"
   ]
  },
  {
   "cell_type": "code",
   "execution_count": 9,
   "metadata": {},
   "outputs": [],
   "source": [
    "# replace by the average REVENUE for each category\n",
    "mean_revenue = df.groupby('TP_CURRENT').mean()['REVENUE_NOV_16']\n",
    "for tp in df.TP_CURRENT.unique():\n",
    "    df.loc[df.TP_CURRENT == tp, 'TP_CURRENT'] = mean_revenue[tp]"
   ]
  },
  {
   "cell_type": "markdown",
   "metadata": {},
   "source": [
    "# TP_CHANGES_NUM (2 variants)"
   ]
  },
  {
   "cell_type": "code",
   "execution_count": 10,
   "metadata": {},
   "outputs": [
    {
     "data": {
      "text/plain": [
       "0.0    16828\n",
       "1.0     2361\n",
       "2.0      563\n",
       "3.0      155\n",
       "7.0       93\n",
       "Name: TP_CHANGES_NUM, dtype: int64"
      ]
     },
     "execution_count": 10,
     "metadata": {},
     "output_type": "execute_result"
    }
   ],
   "source": [
    "# replace those who change tariff a lot for the average number of tariff changes\n",
    "small_values = df[df.groupby('TP_CHANGES_NUM')\n",
    "                 .TP_CHANGES_NUM.transform('count') <= 100].TP_CHANGES_NUM\n",
    "small_value = np.round(small_values.mean())\n",
    "df.loc[df.groupby('TP_CHANGES_NUM')\n",
    "                 .TP_CHANGES_NUM.transform('count') <= 100, \n",
    "       'TP_CHANGES_NUM'] = small_value\n",
    "\n",
    "df.TP_CHANGES_NUM.value_counts()"
   ]
  },
  {
   "cell_type": "code",
   "execution_count": 11,
   "metadata": {},
   "outputs": [
    {
     "data": {
      "text/plain": [
       "0.0    16828\n",
       "1.0     3172\n",
       "Name: TP_IS_CHANGED, dtype: int64"
      ]
     },
     "execution_count": 11,
     "metadata": {},
     "output_type": "execute_result"
    }
   ],
   "source": [
    "# add column \"TP_IS_CHANGED\" which shows it is changed tp or no\n",
    "df.loc[df.TP_CHANGES_NUM > 0, 'TP_IS_CHANGED'] = 1\n",
    "df.loc[df.TP_CHANGES_NUM == 0, 'TP_IS_CHANGED'] = 0\n",
    "df.TP_IS_CHANGED.value_counts()"
   ]
  },
  {
   "cell_type": "markdown",
   "metadata": {},
   "source": [
    "# START_PACK and OFFER_GROUP"
   ]
  },
  {
   "cell_type": "code",
   "execution_count": 12,
   "metadata": {},
   "outputs": [],
   "source": [
    "df = pd.concat([df, pd.get_dummies(df.START_PACK, prefix = 'SP')], axis = 1)\n",
    "df = pd.concat([df, pd.get_dummies(df.OFFER_GROUP, prefix = 'OG')], axis = 1)\n",
    "df = df.drop(['OFFER_GROUP', 'START_PACK'], axis='columns')"
   ]
  },
  {
   "cell_type": "markdown",
   "metadata": {},
   "source": [
    "# BIRTHDAY(4 variants)"
   ]
  },
  {
   "cell_type": "code",
   "execution_count": 13,
   "metadata": {},
   "outputs": [],
   "source": [
    "# new column with age in years\n",
    "df['AGE'] = np.round((pd.to_datetime('2016-12-01') -\n",
    "                      pd.to_datetime(df['BIRTHDAY']))/np.timedelta64(1, 'Y'))"
   ]
  },
  {
   "cell_type": "code",
   "execution_count": 14,
   "metadata": {},
   "outputs": [],
   "source": [
    "# 1 variant(filna) - fill NaNs with the median for gender\n",
    "df.loc[(df['GENDER'] == 'F') &  \n",
    "       df['AGE'].isna(), 'AGE'] = df[df['GENDER'] == 'F']['AGE'].median()\n",
    "df.loc[(df['GENDER'] == 'M') &  \n",
    "       df['AGE'].isna(), 'AGE'] = df[df['GENDER'] == 'M']['AGE'].median()"
   ]
  },
  {
   "cell_type": "code",
   "execution_count": 15,
   "metadata": {},
   "outputs": [],
   "source": [
    "# 2 variant(filna) -fFill NaNs with the median for TP_CURRENT\n",
    "for tp in df.TP_CURRENT.unique():\n",
    "    df.loc[(df['TP_CURRENT'] == tp) &  \n",
    "           df['AGE'].isna(), 'AGE'] = df[df['TP_CURRENT'] == tp]['AGE'].median()"
   ]
  },
  {
   "cell_type": "code",
   "execution_count": 16,
   "metadata": {},
   "outputs": [],
   "source": [
    "# 1 variant(outliers) - 3*std\n",
    "# fill those that aren't in 3 standard deviations with median\n",
    "df[df['AGE'] < df['AGE'].median() + 3*df['AGE'].std()].loc[:, 'AGE'] = df['AGE'].median()"
   ]
  },
  {
   "cell_type": "code",
   "execution_count": 17,
   "metadata": {},
   "outputs": [],
   "source": [
    "# 2 variant(outliers) - 99%\n",
    "# Fill those that aren't in quantile = 99% with median\n",
    "perc = 0.99\n",
    "df[df['AGE'] < df['AGE'].quantile(perc)].loc[:, 'AGE'] = df['AGE'].median()"
   ]
  },
  {
   "cell_type": "code",
   "execution_count": 18,
   "metadata": {},
   "outputs": [],
   "source": [
    "df = df.drop(['BIRTHDAY'], axis='columns')\n"
   ]
  },
  {
   "cell_type": "code",
   "execution_count": 59,
   "metadata": {},
   "outputs": [
    {
     "ename": "KeyError",
     "evalue": "'AGE_GROUPS'",
     "output_type": "error",
     "traceback": [
      "\u001b[1;31m---------------------------------------------------------------------------\u001b[0m",
      "\u001b[1;31mKeyError\u001b[0m                                  Traceback (most recent call last)",
      "\u001b[1;32m<ipython-input-59-2d506e6549b9>\u001b[0m in \u001b[0;36m<module>\u001b[1;34m\u001b[0m\n\u001b[0;32m      6\u001b[0m     kbins.transform(np.array(df.AGE).reshape(-1, 1))))\n\u001b[0;32m      7\u001b[0m \u001b[1;33m\u001b[0m\u001b[0m\n\u001b[1;32m----> 8\u001b[1;33m \u001b[0mdf\u001b[0m\u001b[1;33m.\u001b[0m\u001b[0mgroupby\u001b[0m\u001b[1;33m(\u001b[0m\u001b[1;33m[\u001b[0m\u001b[1;34m'AGE'\u001b[0m\u001b[1;33m,\u001b[0m \u001b[1;34m'AGE_GROUPS'\u001b[0m\u001b[1;33m]\u001b[0m\u001b[1;33m)\u001b[0m\u001b[1;33m\u001b[0m\u001b[1;33m\u001b[0m\u001b[0m\n\u001b[0m",
      "\u001b[1;32m~\\Anaconda3\\lib\\site-packages\\pandas\\core\\generic.py\u001b[0m in \u001b[0;36mgroupby\u001b[1;34m(self, by, axis, level, as_index, sort, group_keys, squeeze, observed, **kwargs)\u001b[0m\n\u001b[0;32m   7892\u001b[0m             \u001b[0msqueeze\u001b[0m\u001b[1;33m=\u001b[0m\u001b[0msqueeze\u001b[0m\u001b[1;33m,\u001b[0m\u001b[1;33m\u001b[0m\u001b[1;33m\u001b[0m\u001b[0m\n\u001b[0;32m   7893\u001b[0m             \u001b[0mobserved\u001b[0m\u001b[1;33m=\u001b[0m\u001b[0mobserved\u001b[0m\u001b[1;33m,\u001b[0m\u001b[1;33m\u001b[0m\u001b[1;33m\u001b[0m\u001b[0m\n\u001b[1;32m-> 7894\u001b[1;33m             \u001b[1;33m**\u001b[0m\u001b[0mkwargs\u001b[0m\u001b[1;33m\u001b[0m\u001b[1;33m\u001b[0m\u001b[0m\n\u001b[0m\u001b[0;32m   7895\u001b[0m         )\n\u001b[0;32m   7896\u001b[0m \u001b[1;33m\u001b[0m\u001b[0m\n",
      "\u001b[1;32m~\\Anaconda3\\lib\\site-packages\\pandas\\core\\groupby\\groupby.py\u001b[0m in \u001b[0;36mgroupby\u001b[1;34m(obj, by, **kwds)\u001b[0m\n\u001b[0;32m   2520\u001b[0m         \u001b[1;32mraise\u001b[0m \u001b[0mTypeError\u001b[0m\u001b[1;33m(\u001b[0m\u001b[1;34m\"invalid type: {}\"\u001b[0m\u001b[1;33m.\u001b[0m\u001b[0mformat\u001b[0m\u001b[1;33m(\u001b[0m\u001b[0mobj\u001b[0m\u001b[1;33m)\u001b[0m\u001b[1;33m)\u001b[0m\u001b[1;33m\u001b[0m\u001b[1;33m\u001b[0m\u001b[0m\n\u001b[0;32m   2521\u001b[0m \u001b[1;33m\u001b[0m\u001b[0m\n\u001b[1;32m-> 2522\u001b[1;33m     \u001b[1;32mreturn\u001b[0m \u001b[0mklass\u001b[0m\u001b[1;33m(\u001b[0m\u001b[0mobj\u001b[0m\u001b[1;33m,\u001b[0m \u001b[0mby\u001b[0m\u001b[1;33m,\u001b[0m \u001b[1;33m**\u001b[0m\u001b[0mkwds\u001b[0m\u001b[1;33m)\u001b[0m\u001b[1;33m\u001b[0m\u001b[1;33m\u001b[0m\u001b[0m\n\u001b[0m",
      "\u001b[1;32m~\\Anaconda3\\lib\\site-packages\\pandas\\core\\groupby\\groupby.py\u001b[0m in \u001b[0;36m__init__\u001b[1;34m(self, obj, keys, axis, level, grouper, exclusions, selection, as_index, sort, group_keys, squeeze, observed, **kwargs)\u001b[0m\n\u001b[0;32m    389\u001b[0m                 \u001b[0msort\u001b[0m\u001b[1;33m=\u001b[0m\u001b[0msort\u001b[0m\u001b[1;33m,\u001b[0m\u001b[1;33m\u001b[0m\u001b[1;33m\u001b[0m\u001b[0m\n\u001b[0;32m    390\u001b[0m                 \u001b[0mobserved\u001b[0m\u001b[1;33m=\u001b[0m\u001b[0mobserved\u001b[0m\u001b[1;33m,\u001b[0m\u001b[1;33m\u001b[0m\u001b[1;33m\u001b[0m\u001b[0m\n\u001b[1;32m--> 391\u001b[1;33m                 \u001b[0mmutated\u001b[0m\u001b[1;33m=\u001b[0m\u001b[0mself\u001b[0m\u001b[1;33m.\u001b[0m\u001b[0mmutated\u001b[0m\u001b[1;33m,\u001b[0m\u001b[1;33m\u001b[0m\u001b[1;33m\u001b[0m\u001b[0m\n\u001b[0m\u001b[0;32m    392\u001b[0m             )\n\u001b[0;32m    393\u001b[0m \u001b[1;33m\u001b[0m\u001b[0m\n",
      "\u001b[1;32m~\\Anaconda3\\lib\\site-packages\\pandas\\core\\groupby\\grouper.py\u001b[0m in \u001b[0;36m_get_grouper\u001b[1;34m(obj, key, axis, level, sort, observed, mutated, validate)\u001b[0m\n\u001b[0;32m    619\u001b[0m                 \u001b[0min_axis\u001b[0m\u001b[1;33m,\u001b[0m \u001b[0mname\u001b[0m\u001b[1;33m,\u001b[0m \u001b[0mlevel\u001b[0m\u001b[1;33m,\u001b[0m \u001b[0mgpr\u001b[0m \u001b[1;33m=\u001b[0m \u001b[1;32mFalse\u001b[0m\u001b[1;33m,\u001b[0m \u001b[1;32mNone\u001b[0m\u001b[1;33m,\u001b[0m \u001b[0mgpr\u001b[0m\u001b[1;33m,\u001b[0m \u001b[1;32mNone\u001b[0m\u001b[1;33m\u001b[0m\u001b[1;33m\u001b[0m\u001b[0m\n\u001b[0;32m    620\u001b[0m             \u001b[1;32melse\u001b[0m\u001b[1;33m:\u001b[0m\u001b[1;33m\u001b[0m\u001b[1;33m\u001b[0m\u001b[0m\n\u001b[1;32m--> 621\u001b[1;33m                 \u001b[1;32mraise\u001b[0m \u001b[0mKeyError\u001b[0m\u001b[1;33m(\u001b[0m\u001b[0mgpr\u001b[0m\u001b[1;33m)\u001b[0m\u001b[1;33m\u001b[0m\u001b[1;33m\u001b[0m\u001b[0m\n\u001b[0m\u001b[0;32m    622\u001b[0m         \u001b[1;32melif\u001b[0m \u001b[0misinstance\u001b[0m\u001b[1;33m(\u001b[0m\u001b[0mgpr\u001b[0m\u001b[1;33m,\u001b[0m \u001b[0mGrouper\u001b[0m\u001b[1;33m)\u001b[0m \u001b[1;32mand\u001b[0m \u001b[0mgpr\u001b[0m\u001b[1;33m.\u001b[0m\u001b[0mkey\u001b[0m \u001b[1;32mis\u001b[0m \u001b[1;32mnot\u001b[0m \u001b[1;32mNone\u001b[0m\u001b[1;33m:\u001b[0m\u001b[1;33m\u001b[0m\u001b[1;33m\u001b[0m\u001b[0m\n\u001b[0;32m    623\u001b[0m             \u001b[1;31m# Add key to exclusions\u001b[0m\u001b[1;33m\u001b[0m\u001b[1;33m\u001b[0m\u001b[1;33m\u001b[0m\u001b[0m\n",
      "\u001b[1;31mKeyError\u001b[0m: 'AGE_GROUPS'"
     ]
    }
   ],
   "source": [
    "# three categories \n",
    "\n",
    "kbins = pr.KBinsDiscretizer(n_bins=3, encode='ordinal', strategy='uniform')\n",
    "kbins.fit(np.array(df.AGE).reshape(-1, 1)) \n",
    "df.AGE_GROUPS = pd.Series(np.ndarray.flatten(\n",
    "    kbins.transform(np.array(df.AGE).reshape(-1, 1))))\n",
    "\n",
    "df.groupby(['AGE', 'AGE_GROUPS'])"
   ]
  },
  {
   "cell_type": "markdown",
   "metadata": {},
   "source": [
    "# GENDER "
   ]
  },
  {
   "cell_type": "code",
   "execution_count": 19,
   "metadata": {},
   "outputs": [
    {
     "data": {
      "text/plain": [
       "1    11135\n",
       "0     8434\n",
       "Name: GENDER, dtype: int64"
      ]
     },
     "execution_count": 19,
     "metadata": {},
     "output_type": "execute_result"
    }
   ],
   "source": [
    "# fill NaNs in \"GENDER\"\n",
    "df.loc[df.GENDER.isna() & \n",
    "       (df.OUTGOING_NOV_16 < df.OUTGOING_NOV_16.mean()), 'GENDER'] = 'M'\n",
    "df.loc[df.GENDER.isna() & \n",
    "       (df.OUTGOING_NOV_16 >= df.OUTGOING_NOV_16.mean()),'GENDER'] = 'F'\n",
    "df.loc[df.GENDER.isna(), 'GENDER'] = 'M'\n",
    "\n",
    "df.loc[df.GENDER == 'F', 'GENDER'] = 0\n",
    "df.loc[df.GENDER == 'M', 'GENDER'] = 1\n",
    "df.GENDER.value_counts(dropna=False)"
   ]
  },
  {
   "cell_type": "markdown",
   "metadata": {},
   "source": [
    "# MLLS_STATE"
   ]
  },
  {
   "cell_type": "code",
   "execution_count": 20,
   "metadata": {},
   "outputs": [
    {
     "data": {
      "text/plain": [
       " 0    16426\n",
       " 2     2903\n",
       " 1      209\n",
       "-1       31\n",
       "Name: MLLS_STATE, dtype: int64"
      ]
     },
     "execution_count": 20,
     "metadata": {},
     "output_type": "execute_result"
    }
   ],
   "source": [
    "# change 'MLLS_STATE' (add flag a member or not and change categories to numbers)\n",
    "# del = -1\n",
    "# null = 0\n",
    "# begin = 1\n",
    "# active = 2\n",
    "mask = df.MLLS_STATE == 'Active'\n",
    "df.loc[mask, 'IN_MLLS'] = 1\n",
    "df.loc[mask, 'MLLS_STATE'] = 2\n",
    "\n",
    "mask = df.MLLS_STATE == 'Begin'\n",
    "df.loc[mask, 'IN_MLLS'] = 1\n",
    "df.loc[mask, 'MLLS_STATE'] = 1\n",
    "\n",
    "mask = df.MLLS_STATE.isna()\n",
    "df.loc[mask, 'IN_MLLS'] = 0\n",
    "df.loc[mask, 'MLLS_STATE'] = 0\n",
    "\n",
    "mask = df.MLLS_STATE == 'Deleted'\n",
    "df.loc[mask, 'IN_MLLS'] = 0\n",
    "df.loc[mask, 'MLLS_STATE'] = -1\n",
    "\n",
    "df.MLLS_STATE.value_counts()"
   ]
  },
  {
   "cell_type": "markdown",
   "metadata": {},
   "source": [
    "# PORTED_IN(2 variants)"
   ]
  },
  {
   "cell_type": "code",
   "execution_count": 21,
   "metadata": {},
   "outputs": [],
   "source": [
    "# 1 variant\n",
    "df = df.drop(['PORTED_IN'], axis='columns')"
   ]
  },
  {
   "cell_type": "code",
   "execution_count": 22,
   "metadata": {},
   "outputs": [],
   "source": [
    "# 2 varinat\n",
    "# nothing to do"
   ]
  },
  {
   "cell_type": "markdown",
   "metadata": {},
   "source": [
    "# OBLIG_NUM(2 variants)"
   ]
  },
  {
   "cell_type": "code",
   "execution_count": 23,
   "metadata": {},
   "outputs": [
    {
     "data": {
      "text/plain": [
       "0.0    16126\n",
       "1.0     3394\n",
       "2.0       49\n",
       "Name: OBLIG_NUM, dtype: int64"
      ]
     },
     "execution_count": 23,
     "metadata": {},
     "output_type": "execute_result"
    }
   ],
   "source": [
    "# 1 variant(0, 1, 2)\n",
    "df.OBLIG_NUM = df.OBLIG_NUM.fillna(0)\n",
    "df.OBLIG_NUM.value_counts(dropna=False)"
   ]
  },
  {
   "cell_type": "code",
   "execution_count": 24,
   "metadata": {},
   "outputs": [
    {
     "data": {
      "text/plain": [
       "0.0    16126\n",
       "1.0     3443\n",
       "Name: OBLIG_NUM, dtype: int64"
      ]
     },
     "execution_count": 24,
     "metadata": {},
     "output_type": "execute_result"
    }
   ],
   "source": [
    "# 2 variant - change values on two: 1 - bought/ 0 - no\n",
    "df.OBLIG_NUM = df.OBLIG_NUM.fillna(0)\n",
    "df.loc[df.OBLIG_NUM == 2, 'OBLIG_NUM'] = 1\n",
    "\n",
    "df.OBLIG_NUM.value_counts()"
   ]
  },
  {
   "cell_type": "markdown",
   "metadata": {},
   "source": [
    "# ASSET_TYPE_LAST and DEVICE_TYPE_BUS"
   ]
  },
  {
   "cell_type": "code",
   "execution_count": 25,
   "metadata": {},
   "outputs": [
    {
     "data": {
      "text/plain": [
       "0    16839\n",
       "1     2730\n",
       "Name: ASSET_TYPE_LAST, dtype: int64"
      ]
     },
     "execution_count": 25,
     "metadata": {},
     "output_type": "execute_result"
    }
   ],
   "source": [
    "# if ASSET_TYPE_LAST == DEVICE_TYPE_BUS then item==1 else 0\n",
    "df.loc[df['ASSET_TYPE_LAST'] == df['DEVICE_TYPE_BUS'], 'ASSET_TYPE_LAST'] = 1\n",
    "df.loc[df['ASSET_TYPE_LAST'] != 1, 'ASSET_TYPE_LAST'] = 0\n",
    "df.ASSET_TYPE_LAST.value_counts(dropna=False)"
   ]
  },
  {
   "cell_type": "code",
   "execution_count": 26,
   "metadata": {},
   "outputs": [],
   "source": [
    "#defise type on 4 categories\n",
    "df.loc[df['DEVICE_TYPE_BUS'] == 'Tablet', 'DEVICE_TYPE_BUS'] = 'Other_device'\n",
    "df.loc[df['DEVICE_TYPE_BUS'] == 'Modem/Router', 'DEVICE_TYPE_BUS'] = 'Other_device'\n",
    "df = pd.concat([df, pd.get_dummies(df.DEVICE_TYPE_BUS)], axis = 1)\n",
    "df = df.drop(['DEVICE_TYPE_BUS'], axis='columns')"
   ]
  },
  {
   "cell_type": "markdown",
   "metadata": {},
   "source": [
    "# USAGE_AREA"
   ]
  },
  {
   "cell_type": "code",
   "execution_count": 27,
   "metadata": {},
   "outputs": [],
   "source": [
    "df = pd.concat([df, pd.get_dummies(df.USAGE_AREA)], axis = 1)\n",
    "df = df.drop(['USAGE_AREA'], axis='columns')"
   ]
  },
  {
   "cell_type": "markdown",
   "metadata": {},
   "source": [
    "# REFILL and REVENUE"
   ]
  },
  {
   "cell_type": "code",
   "execution_count": 28,
   "metadata": {},
   "outputs": [
    {
     "data": {
      "text/plain": [
       "0.0      8984\n",
       "3.0      1087\n",
       "5.0       981\n",
       "10.0      924\n",
       "6.0       623\n",
       "         ... \n",
       "146.0       1\n",
       "93.0        1\n",
       "200.0       1\n",
       "281.0       1\n",
       "135.0       1\n",
       "Name: REFILL_NOV_16, Length: 107, dtype: int64"
      ]
     },
     "execution_count": 28,
     "metadata": {},
     "output_type": "execute_result"
    }
   ],
   "source": [
    "df.REFILL_NOV_16 = df.REFILL_NOV_16.fillna(0)\n",
    "df.REFILL_OCT_16 = df.REFILL_OCT_16.fillna(0)\n",
    "df.REVENUE_OCT_16 = df.REVENUE_OCT_16.fillna(0)\n",
    "df.REVENUE_NOV_16 = df.REVENUE_NOV_16.fillna(0)\n",
    "\n",
    "df.REFILL_OCT_16 = df.REFILL_OCT_16.div(10000)\n",
    "df.REFILL_NOV_16 = df.REFILL_NOV_16.div(10000)\n",
    "\n",
    "\n",
    "df.REFILL_NOV_16.value_counts()"
   ]
  },
  {
   "cell_type": "markdown",
   "metadata": {},
   "source": [
    "# OUTGOING and GPRS"
   ]
  },
  {
   "cell_type": "code",
   "execution_count": 29,
   "metadata": {},
   "outputs": [],
   "source": [
    "df.OUTGOING_NOV_16 = df.OUTGOING_NOV_16.fillna(0)\n",
    "df.OUTGOING_OCT_16 = df.OUTGOING_OCT_16.fillna(0)\n",
    "df.GPRS_OCT_16 = df.GPRS_OCT_16.fillna(0)\n",
    "df.GPRS_NOV_16 = df.GPRS_NOV_16.fillna(0)"
   ]
  },
  {
   "cell_type": "code",
   "execution_count": 30,
   "metadata": {},
   "outputs": [],
   "source": [
    "# add new categories:\n",
    "# - use internet and use calls\n",
    "# - use only internet\n",
    "# - use only calls\n",
    "# - don't use anything\n",
    "mask_outg = (df.OUTGOING_NOV_16 > 0) & (df.OUTGOING_OCT_16 > 0)\n",
    "mask_gprs = (df.GPRS_OCT_16 > 0) & (df.GPRS_NOV_16 > 0)\n",
    "df.loc[mask_outg & mask_gprs, 'INTERNET_AND_CALLS'] = 'NET_AND_CALLS'\n",
    "df.loc[~mask_outg & mask_gprs, 'INTERNET_AND_CALLS'] = 'ONLY_NET'\n",
    "df.loc[mask_outg & ~mask_gprs, 'INTERNET_AND_CALLS'] = 'ONLY_CALLS'\n",
    "df = pd.concat([df, pd.get_dummies(df.INTERNET_AND_CALLS)], axis = 1)\n",
    "df = df.drop(['INTERNET_AND_CALLS'], axis='columns')"
   ]
  },
  {
   "cell_type": "code",
   "execution_count": 31,
   "metadata": {},
   "outputs": [
    {
     "data": {
      "text/plain": [
       "0.000000     7105\n",
       "3.000000      579\n",
       "5.000000      211\n",
       "4.000000      121\n",
       "6.500000      115\n",
       "             ... \n",
       "90.890000       1\n",
       "23.240000       1\n",
       "10.719298       1\n",
       "1.502930        1\n",
       "0.202070        1\n",
       "Name: REVENUE_NOV_16, Length: 3372, dtype: int64"
      ]
     },
     "execution_count": 31,
     "metadata": {},
     "output_type": "execute_result"
    }
   ],
   "source": [
    "df.REVENUE_NOV_16.value_counts(dropna=False)"
   ]
  },
  {
   "cell_type": "code",
   "execution_count": 32,
   "metadata": {},
   "outputs": [
    {
     "data": {
      "text/html": [
       "<div>\n",
       "<style scoped>\n",
       "    .dataframe tbody tr th:only-of-type {\n",
       "        vertical-align: middle;\n",
       "    }\n",
       "\n",
       "    .dataframe tbody tr th {\n",
       "        vertical-align: top;\n",
       "    }\n",
       "\n",
       "    .dataframe thead th {\n",
       "        text-align: right;\n",
       "    }\n",
       "</style>\n",
       "<table border=\"1\" class=\"dataframe\">\n",
       "  <thead>\n",
       "    <tr style=\"text-align: right;\">\n",
       "      <th></th>\n",
       "      <th>STATUS</th>\n",
       "      <th>TP_CURRENT</th>\n",
       "      <th>TP_CHANGES_NUM</th>\n",
       "      <th>GENDER</th>\n",
       "      <th>MLLS_STATE</th>\n",
       "      <th>OBLIG_NUM</th>\n",
       "      <th>ASSET_TYPE_LAST</th>\n",
       "      <th>REFILL_OCT_16</th>\n",
       "      <th>REFILL_NOV_16</th>\n",
       "      <th>OUTGOING_OCT_16</th>\n",
       "      <th>...</th>\n",
       "      <th>Undefined</th>\n",
       "      <th>Countryside</th>\n",
       "      <th>Local Towns</th>\n",
       "      <th>Minsk</th>\n",
       "      <th>Mix</th>\n",
       "      <th>Regional Cities</th>\n",
       "      <th>Undefined</th>\n",
       "      <th>NET_AND_CALLS</th>\n",
       "      <th>ONLY_CALLS</th>\n",
       "      <th>ONLY_NET</th>\n",
       "    </tr>\n",
       "  </thead>\n",
       "  <tbody>\n",
       "    <tr>\n",
       "      <td>0</td>\n",
       "      <td>0</td>\n",
       "      <td>6.19448</td>\n",
       "      <td>0.0</td>\n",
       "      <td>1</td>\n",
       "      <td>0</td>\n",
       "      <td>0.0</td>\n",
       "      <td>0</td>\n",
       "      <td>0.0</td>\n",
       "      <td>0.0</td>\n",
       "      <td>0.000000</td>\n",
       "      <td>...</td>\n",
       "      <td>0</td>\n",
       "      <td>0</td>\n",
       "      <td>0</td>\n",
       "      <td>0</td>\n",
       "      <td>0</td>\n",
       "      <td>1</td>\n",
       "      <td>0</td>\n",
       "      <td>0</td>\n",
       "      <td>0</td>\n",
       "      <td>0</td>\n",
       "    </tr>\n",
       "    <tr>\n",
       "      <td>1</td>\n",
       "      <td>0</td>\n",
       "      <td>3.64031</td>\n",
       "      <td>0.0</td>\n",
       "      <td>0</td>\n",
       "      <td>0</td>\n",
       "      <td>0.0</td>\n",
       "      <td>0</td>\n",
       "      <td>0.0</td>\n",
       "      <td>0.0</td>\n",
       "      <td>0.000000</td>\n",
       "      <td>...</td>\n",
       "      <td>0</td>\n",
       "      <td>0</td>\n",
       "      <td>1</td>\n",
       "      <td>0</td>\n",
       "      <td>0</td>\n",
       "      <td>0</td>\n",
       "      <td>0</td>\n",
       "      <td>0</td>\n",
       "      <td>0</td>\n",
       "      <td>0</td>\n",
       "    </tr>\n",
       "    <tr>\n",
       "      <td>2</td>\n",
       "      <td>0</td>\n",
       "      <td>3.32828</td>\n",
       "      <td>0.0</td>\n",
       "      <td>0</td>\n",
       "      <td>0</td>\n",
       "      <td>0.0</td>\n",
       "      <td>0</td>\n",
       "      <td>15.0</td>\n",
       "      <td>0.0</td>\n",
       "      <td>59.483333</td>\n",
       "      <td>...</td>\n",
       "      <td>0</td>\n",
       "      <td>1</td>\n",
       "      <td>0</td>\n",
       "      <td>0</td>\n",
       "      <td>0</td>\n",
       "      <td>0</td>\n",
       "      <td>0</td>\n",
       "      <td>1</td>\n",
       "      <td>0</td>\n",
       "      <td>0</td>\n",
       "    </tr>\n",
       "    <tr>\n",
       "      <td>3</td>\n",
       "      <td>0</td>\n",
       "      <td>12.5699</td>\n",
       "      <td>0.0</td>\n",
       "      <td>1</td>\n",
       "      <td>0</td>\n",
       "      <td>0.0</td>\n",
       "      <td>0</td>\n",
       "      <td>0.0</td>\n",
       "      <td>0.0</td>\n",
       "      <td>0.000000</td>\n",
       "      <td>...</td>\n",
       "      <td>1</td>\n",
       "      <td>0</td>\n",
       "      <td>0</td>\n",
       "      <td>0</td>\n",
       "      <td>0</td>\n",
       "      <td>0</td>\n",
       "      <td>0</td>\n",
       "      <td>0</td>\n",
       "      <td>0</td>\n",
       "      <td>0</td>\n",
       "    </tr>\n",
       "    <tr>\n",
       "      <td>4</td>\n",
       "      <td>0</td>\n",
       "      <td>6.14527</td>\n",
       "      <td>0.0</td>\n",
       "      <td>0</td>\n",
       "      <td>0</td>\n",
       "      <td>0.0</td>\n",
       "      <td>0</td>\n",
       "      <td>6.0</td>\n",
       "      <td>9.0</td>\n",
       "      <td>260.200000</td>\n",
       "      <td>...</td>\n",
       "      <td>0</td>\n",
       "      <td>0</td>\n",
       "      <td>0</td>\n",
       "      <td>1</td>\n",
       "      <td>0</td>\n",
       "      <td>0</td>\n",
       "      <td>0</td>\n",
       "      <td>1</td>\n",
       "      <td>0</td>\n",
       "      <td>0</td>\n",
       "    </tr>\n",
       "    <tr>\n",
       "      <td>...</td>\n",
       "      <td>...</td>\n",
       "      <td>...</td>\n",
       "      <td>...</td>\n",
       "      <td>...</td>\n",
       "      <td>...</td>\n",
       "      <td>...</td>\n",
       "      <td>...</td>\n",
       "      <td>...</td>\n",
       "      <td>...</td>\n",
       "      <td>...</td>\n",
       "      <td>...</td>\n",
       "      <td>...</td>\n",
       "      <td>...</td>\n",
       "      <td>...</td>\n",
       "      <td>...</td>\n",
       "      <td>...</td>\n",
       "      <td>...</td>\n",
       "      <td>...</td>\n",
       "      <td>...</td>\n",
       "      <td>...</td>\n",
       "      <td>...</td>\n",
       "    </tr>\n",
       "    <tr>\n",
       "      <td>19995</td>\n",
       "      <td>0</td>\n",
       "      <td>6.5263</td>\n",
       "      <td>2.0</td>\n",
       "      <td>1</td>\n",
       "      <td>2</td>\n",
       "      <td>0.0</td>\n",
       "      <td>0</td>\n",
       "      <td>7.0</td>\n",
       "      <td>10.0</td>\n",
       "      <td>40.016667</td>\n",
       "      <td>...</td>\n",
       "      <td>0</td>\n",
       "      <td>0</td>\n",
       "      <td>0</td>\n",
       "      <td>0</td>\n",
       "      <td>1</td>\n",
       "      <td>0</td>\n",
       "      <td>0</td>\n",
       "      <td>1</td>\n",
       "      <td>0</td>\n",
       "      <td>0</td>\n",
       "    </tr>\n",
       "    <tr>\n",
       "      <td>19996</td>\n",
       "      <td>0</td>\n",
       "      <td>2.78235</td>\n",
       "      <td>0.0</td>\n",
       "      <td>0</td>\n",
       "      <td>0</td>\n",
       "      <td>0.0</td>\n",
       "      <td>0</td>\n",
       "      <td>0.0</td>\n",
       "      <td>0.0</td>\n",
       "      <td>0.000000</td>\n",
       "      <td>...</td>\n",
       "      <td>0</td>\n",
       "      <td>0</td>\n",
       "      <td>1</td>\n",
       "      <td>0</td>\n",
       "      <td>0</td>\n",
       "      <td>0</td>\n",
       "      <td>0</td>\n",
       "      <td>0</td>\n",
       "      <td>0</td>\n",
       "      <td>0</td>\n",
       "    </tr>\n",
       "    <tr>\n",
       "      <td>19997</td>\n",
       "      <td>0</td>\n",
       "      <td>12.5699</td>\n",
       "      <td>0.0</td>\n",
       "      <td>1</td>\n",
       "      <td>0</td>\n",
       "      <td>0.0</td>\n",
       "      <td>0</td>\n",
       "      <td>10.0</td>\n",
       "      <td>10.0</td>\n",
       "      <td>0.000000</td>\n",
       "      <td>...</td>\n",
       "      <td>1</td>\n",
       "      <td>0</td>\n",
       "      <td>0</td>\n",
       "      <td>0</td>\n",
       "      <td>0</td>\n",
       "      <td>0</td>\n",
       "      <td>1</td>\n",
       "      <td>0</td>\n",
       "      <td>0</td>\n",
       "      <td>0</td>\n",
       "    </tr>\n",
       "    <tr>\n",
       "      <td>19998</td>\n",
       "      <td>0</td>\n",
       "      <td>4.43371</td>\n",
       "      <td>0.0</td>\n",
       "      <td>1</td>\n",
       "      <td>0</td>\n",
       "      <td>1.0</td>\n",
       "      <td>1</td>\n",
       "      <td>6.0</td>\n",
       "      <td>6.0</td>\n",
       "      <td>320.766667</td>\n",
       "      <td>...</td>\n",
       "      <td>0</td>\n",
       "      <td>0</td>\n",
       "      <td>0</td>\n",
       "      <td>0</td>\n",
       "      <td>0</td>\n",
       "      <td>1</td>\n",
       "      <td>0</td>\n",
       "      <td>1</td>\n",
       "      <td>0</td>\n",
       "      <td>0</td>\n",
       "    </tr>\n",
       "    <tr>\n",
       "      <td>19999</td>\n",
       "      <td>0</td>\n",
       "      <td>3.64031</td>\n",
       "      <td>0.0</td>\n",
       "      <td>1</td>\n",
       "      <td>0</td>\n",
       "      <td>0.0</td>\n",
       "      <td>0</td>\n",
       "      <td>13.0</td>\n",
       "      <td>8.0</td>\n",
       "      <td>369.550000</td>\n",
       "      <td>...</td>\n",
       "      <td>1</td>\n",
       "      <td>0</td>\n",
       "      <td>0</td>\n",
       "      <td>0</td>\n",
       "      <td>1</td>\n",
       "      <td>0</td>\n",
       "      <td>0</td>\n",
       "      <td>0</td>\n",
       "      <td>1</td>\n",
       "      <td>0</td>\n",
       "    </tr>\n",
       "  </tbody>\n",
       "</table>\n",
       "<p>19569 rows × 38 columns</p>\n",
       "</div>"
      ],
      "text/plain": [
       "       STATUS TP_CURRENT  TP_CHANGES_NUM  GENDER  MLLS_STATE  OBLIG_NUM  \\\n",
       "0           0    6.19448             0.0       1           0        0.0   \n",
       "1           0    3.64031             0.0       0           0        0.0   \n",
       "2           0    3.32828             0.0       0           0        0.0   \n",
       "3           0    12.5699             0.0       1           0        0.0   \n",
       "4           0    6.14527             0.0       0           0        0.0   \n",
       "...       ...        ...             ...     ...         ...        ...   \n",
       "19995       0     6.5263             2.0       1           2        0.0   \n",
       "19996       0    2.78235             0.0       0           0        0.0   \n",
       "19997       0    12.5699             0.0       1           0        0.0   \n",
       "19998       0    4.43371             0.0       1           0        1.0   \n",
       "19999       0    3.64031             0.0       1           0        0.0   \n",
       "\n",
       "       ASSET_TYPE_LAST  REFILL_OCT_16  REFILL_NOV_16  OUTGOING_OCT_16  ...  \\\n",
       "0                    0            0.0            0.0         0.000000  ...   \n",
       "1                    0            0.0            0.0         0.000000  ...   \n",
       "2                    0           15.0            0.0        59.483333  ...   \n",
       "3                    0            0.0            0.0         0.000000  ...   \n",
       "4                    0            6.0            9.0       260.200000  ...   \n",
       "...                ...            ...            ...              ...  ...   \n",
       "19995                0            7.0           10.0        40.016667  ...   \n",
       "19996                0            0.0            0.0         0.000000  ...   \n",
       "19997                0           10.0           10.0         0.000000  ...   \n",
       "19998                1            6.0            6.0       320.766667  ...   \n",
       "19999                0           13.0            8.0       369.550000  ...   \n",
       "\n",
       "       Undefined  Countryside  Local Towns  Minsk  Mix  Regional Cities  \\\n",
       "0              0            0            0      0    0                1   \n",
       "1              0            0            1      0    0                0   \n",
       "2              0            1            0      0    0                0   \n",
       "3              1            0            0      0    0                0   \n",
       "4              0            0            0      1    0                0   \n",
       "...          ...          ...          ...    ...  ...              ...   \n",
       "19995          0            0            0      0    1                0   \n",
       "19996          0            0            1      0    0                0   \n",
       "19997          1            0            0      0    0                0   \n",
       "19998          0            0            0      0    0                1   \n",
       "19999          1            0            0      0    1                0   \n",
       "\n",
       "       Undefined  NET_AND_CALLS  ONLY_CALLS  ONLY_NET  \n",
       "0              0              0           0         0  \n",
       "1              0              0           0         0  \n",
       "2              0              1           0         0  \n",
       "3              0              0           0         0  \n",
       "4              0              1           0         0  \n",
       "...          ...            ...         ...       ...  \n",
       "19995          0              1           0         0  \n",
       "19996          0              0           0         0  \n",
       "19997          1              0           0         0  \n",
       "19998          0              1           0         0  \n",
       "19999          0              0           1         0  \n",
       "\n",
       "[19569 rows x 38 columns]"
      ]
     },
     "execution_count": 32,
     "metadata": {},
     "output_type": "execute_result"
    }
   ],
   "source": [
    "df"
   ]
  },
  {
   "cell_type": "code",
   "execution_count": null,
   "metadata": {},
   "outputs": [],
   "source": []
  }
 ],
 "metadata": {
  "kernelspec": {
   "display_name": "Python 3",
   "language": "python",
   "name": "python3"
  },
  "language_info": {
   "codemirror_mode": {
    "name": "ipython",
    "version": 3
   },
   "file_extension": ".py",
   "mimetype": "text/x-python",
   "name": "python",
   "nbconvert_exporter": "python",
   "pygments_lexer": "ipython3",
   "version": "3.7.3"
  },
  "varInspector": {
   "cols": {
    "lenName": 16,
    "lenType": 16,
    "lenVar": 40
   },
   "kernels_config": {
    "python": {
     "delete_cmd_postfix": "",
     "delete_cmd_prefix": "del ",
     "library": "var_list.py",
     "varRefreshCmd": "print(var_dic_list())"
    },
    "r": {
     "delete_cmd_postfix": ") ",
     "delete_cmd_prefix": "rm(",
     "library": "var_list.r",
     "varRefreshCmd": "cat(var_dic_list()) "
    }
   },
   "types_to_exclude": [
    "module",
    "function",
    "builtin_function_or_method",
    "instance",
    "_Feature"
   ],
   "window_display": false
  }
 },
 "nbformat": 4,
 "nbformat_minor": 2
}
